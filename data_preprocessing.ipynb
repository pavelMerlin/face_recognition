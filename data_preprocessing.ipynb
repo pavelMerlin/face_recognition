{
 "cells": [
  {
   "cell_type": "code",
   "execution_count": 210,
   "metadata": {
    "collapsed": true,
    "ExecuteTime": {
     "end_time": "2023-12-30T18:49:07.812719900Z",
     "start_time": "2023-12-30T18:49:07.362922600Z"
    }
   },
   "outputs": [],
   "source": [
    "import os\n",
    "\n",
    "import numpy as np\n",
    "import cv2\n",
    "import matplotlib\n",
    "from matplotlib import pyplot as plt\n",
    "\n",
    "import shutil\n",
    "\n",
    "import re\n",
    "\n",
    "import pywt\n",
    "import cv2\n",
    "\n",
    "from sklearn.svm import SVC\n",
    "from sklearn.preprocessing import StandardScaler\n",
    "from sklearn.model_selection import train_test_split\n",
    "from sklearn.pipeline import Pipeline\n",
    "from sklearn.metrics import classification_report\n",
    "%matplotlib inline\n",
    "\n",
    "\n",
    "face_cascade = cv2.CascadeClassifier(r'C:\\Users\\spark\\PycharmProjects\\image_face_recognition\\haars\\haarcascade_frontalface_default.xml')\n",
    "eye_cascade = cv2.CascadeClassifier(r'C:\\Users\\spark\\PycharmProjects\\image_face_recognition\\haars\\haarcascade_eye.xml')"
   ]
  },
  {
   "cell_type": "code",
   "execution_count": 211,
   "outputs": [],
   "source": [
    "def change_file_name(folder_path, name:str):\n",
    "    \"\"\"\n",
    "    Change file names to more readable ^_^\n",
    "    :param folder_path: path to dictionary with images\n",
    "    :param name: new file\\s name\\s\n",
    "    \"\"\"\n",
    "    # Переходим в папку с фотографиями\n",
    "    os.chdir(folder_path)\n",
    "\n",
    "    # Получаем список файлов в папке\n",
    "    file_list = os.listdir()\n",
    "\n",
    "    # Расширения файлов, которые вы хотите обрабатывать\n",
    "    extensions = ['.jpg', '.jpeg', '.png']\n",
    "\n",
    "    # Проходимся по каждому файлу и проверяем расширение\n",
    "    for index, file_name in enumerate(file_list):\n",
    "        # Получаем расширение файла\n",
    "        file_ext = os.path.splitext(file_name)[1].lower()  # Получаем расширение и приводим его к нижнему регистру\n",
    "\n",
    "        # Проверяем, что расширение файла находится в списке разрешенных\n",
    "        if file_ext in extensions:\n",
    "            # Новое имя файла (можно настроить согласно вашим требованиям)\n",
    "            new_name = f\"{name}_{index}{file_ext}\"  # Пример нового имени: photo_0.jpg, photo_1.png и т.д.\n",
    "\n",
    "            # Полный путь к текущему файлу\n",
    "            current_path = os.path.join(folder_path, file_name)\n",
    "\n",
    "            # Полный путь к новому файлу\n",
    "            new_path = os.path.join(folder_path, new_name)\n",
    "            try:\n",
    "                # Переименовываем файл\n",
    "                os.rename(current_path, new_path)\n",
    "                print(f\"Файл {file_name} переименован в {new_name}\")\n",
    "            except FileExistsError:\n",
    "                new_name = f\"test_photo_{index+1}{file_ext}\"\n",
    "                print(f\"Файл {file_name} переименован в {new_name}\")\n",
    "        else:\n",
    "            print(f\"Файл {file_name} имеет неподдерживаемое расширение и будет проигнорирован.\")"
   ],
   "metadata": {
    "collapsed": false,
    "ExecuteTime": {
     "end_time": "2023-12-30T18:49:07.813717300Z",
     "start_time": "2023-12-30T18:49:07.435729700Z"
    }
   }
  },
  {
   "cell_type": "code",
   "execution_count": 212,
   "outputs": [],
   "source": [
    "def crop_image(image_path):\n",
    "    # Читаем картинку\n",
    "    img = cv2.imread(image_path)\n",
    "\n",
    "    # Приводим её к серому цвету\n",
    "    gray = cv2.cvtColor(img, cv2.COLOR_BGR2GRAY)\n",
    "\n",
    "    # Обнаруживаем лицо\n",
    "    faces = face_cascade.detectMultiScale(gray, 1.3, 5)\n",
    "\n",
    "    # Если находим пару глаз на лице, то вносим такое фото\n",
    "    for (x,y,w,h) in faces:\n",
    "        roi_gray = gray[y:y+h, x:x+w]\n",
    "        roi_color = img[y:y+h, x:x+w]\n",
    "        eyes = eye_cascade.detectMultiScale(roi_gray)\n",
    "        if len(eyes) >= 2:\n",
    "            return roi_color"
   ],
   "metadata": {
    "collapsed": false,
    "ExecuteTime": {
     "end_time": "2023-12-30T18:49:07.814715100Z",
     "start_time": "2023-12-30T18:49:07.453687Z"
    }
   }
  },
  {
   "cell_type": "code",
   "execution_count": 213,
   "outputs": [],
   "source": [
    "#cropped_image = crop_image(r'C:\\Users\\spark\\PycharmProjects\\image_face_recognition\\data\\test_images\\test_photo0.jpg')\n",
    "\n",
    "#if cropped_image is False:\n",
    "#    print(f\"У изображения _ не было найденно лицо\")\n",
    "#else:\n",
    "#    plt.imshow(cropped_image)"
   ],
   "metadata": {
    "collapsed": false,
    "ExecuteTime": {
     "end_time": "2023-12-30T18:49:07.814715100Z",
     "start_time": "2023-12-30T18:49:07.464656500Z"
    }
   }
  },
  {
   "cell_type": "markdown",
   "source": [
    "#### Находим имена папок по заданому пути, и записываем их в список"
   ],
   "metadata": {
    "collapsed": false
   }
  },
  {
   "cell_type": "code",
   "execution_count": 214,
   "outputs": [],
   "source": [
    "path_to_images = \"C:/Users/spark/PycharmProjects/image_face_recognition/data\"\n",
    "path_to_cropped = \"C:/Users/spark/PycharmProjects/image_face_recognition/data/cropped\""
   ],
   "metadata": {
    "collapsed": false,
    "ExecuteTime": {
     "end_time": "2023-12-30T18:49:07.814715100Z",
     "start_time": "2023-12-30T18:49:07.479646300Z"
    }
   }
  },
  {
   "cell_type": "code",
   "execution_count": 215,
   "outputs": [],
   "source": [
    "name_of_folders_path = []\n",
    "for folder in os.scandir(path_to_images):\n",
    "    if folder.is_dir():\n",
    "        name_of_folders_path.append(folder.path)"
   ],
   "metadata": {
    "collapsed": false,
    "ExecuteTime": {
     "end_time": "2023-12-30T18:49:07.814715100Z",
     "start_time": "2023-12-30T18:49:07.493576100Z"
    }
   }
  },
  {
   "cell_type": "markdown",
   "source": [
    "#### Создаем или находим папку cropped для обрезанных фото"
   ],
   "metadata": {
    "collapsed": false
   }
  },
  {
   "cell_type": "code",
   "execution_count": 216,
   "outputs": [],
   "source": [
    "if os.path.exists(path_to_cropped):\n",
    "    shutil.rmtree(path_to_cropped) # Удаление папки если она есть\n",
    "os.mkdir(path_to_cropped) # Создание заново"
   ],
   "metadata": {
    "collapsed": false,
    "ExecuteTime": {
     "end_time": "2023-12-30T18:49:07.814715100Z",
     "start_time": "2023-12-30T18:49:07.510528800Z"
    }
   }
  },
  {
   "cell_type": "code",
   "execution_count": 217,
   "outputs": [
    {
     "name": "stdout",
     "output_type": "stream",
     "text": [
      "andrey_bond\n",
      "dina_samatova\n",
      "elvira_lukhmenko\n",
      "kyrrylo_chistik\n",
      "liza_dorik\n",
      "mykyta_khambur\n",
      "\n",
      "Потерянно лиц: 95\n",
      "Всего картинок: 238\n",
      "\n",
      "Загружено: 143\n"
     ]
    }
   ],
   "source": [
    "cropped_person_path = {}\n",
    "cropped_images_dirs = []\n",
    "\n",
    "counter_face_miss = 0\n",
    "pictures = 0\n",
    "# change_file_name(f\"{path_to_images}/{person_name}\", person_name)\n",
    "\n",
    "for folder_name_path in name_of_folders_path:\n",
    "    # Получаем имя папки из пути\n",
    "    person_name = folder_name_path.split(\"\\\\\")[-1]\n",
    "    # Убираем тестовую папку\n",
    "    if person_name == \"test_images\" or person_name == \"cropped\":\n",
    "        continue\n",
    "\n",
    "    print(person_name)\n",
    "\n",
    "    # Наполняем словарь с ключом = имя, значение = путь\n",
    "    cropped_person_path[person_name] = []\n",
    "\n",
    "    for image in os.scandir(folder_name_path + \"/\"):\n",
    "        pictures += 1\n",
    "        roi_cropped = crop_image(image.path)\n",
    "        if roi_cropped is None:\n",
    "            # print(f\"В Папке с именем {person_name}. У изображения {image} не было найдено лицо\")\n",
    "            counter_face_miss += 1\n",
    "            continue\n",
    "        else:\n",
    "            cropped_folder_path = path_to_cropped + \"/\" + person_name\n",
    "            if not os.path.exists(cropped_folder_path):\n",
    "                os.makedirs(cropped_folder_path)\n",
    "                cropped_images_dirs.append(cropped_folder_path)\n",
    "\n",
    "            image_name = image.name\n",
    "            cropped_file_path = os.path.join(cropped_folder_path, image_name)\n",
    "\n",
    "            cv2.imwrite(cropped_file_path, roi_cropped)\n",
    "            cropped_person_path[person_name].append(cropped_file_path)\n",
    "\n",
    "print(f\"\\nПотерянно лиц: {counter_face_miss}\")\n",
    "print(f\"Всего картинок: {pictures}\\n\\nЗагружено: {pictures - counter_face_miss}\")"
   ],
   "metadata": {
    "collapsed": false,
    "ExecuteTime": {
     "end_time": "2023-12-30T18:49:36.845118100Z",
     "start_time": "2023-12-30T18:49:07.558403200Z"
    }
   }
  },
  {
   "cell_type": "code",
   "execution_count": 218,
   "outputs": [
    {
     "data": {
      "text/plain": "{'andrey_bond': 0,\n 'dina_samatova': 1,\n 'elvira_lukhmenko': 2,\n 'kyrrylo_chistik': 3,\n 'liza_dorik': 4,\n 'mykyta_khambur': 5}"
     },
     "execution_count": 218,
     "metadata": {},
     "output_type": "execute_result"
    }
   ],
   "source": [
    "# Создаем one-hot словарь из названий папок (по совместительству имен людей)\n",
    "one_hot_class = {}\n",
    "\n",
    "for number, person in enumerate(cropped_person_path.keys()):\n",
    "    one_hot_class[person] = number\n",
    "one_hot_class"
   ],
   "metadata": {
    "collapsed": false,
    "ExecuteTime": {
     "end_time": "2023-12-30T18:49:36.889238900Z",
     "start_time": "2023-12-30T18:49:36.846116200Z"
    }
   }
  },
  {
   "cell_type": "code",
   "execution_count": 219,
   "outputs": [],
   "source": [
    "def w2d(im_array, mode='haar', level=1):\n",
    "    \"\"\"\n",
    "    Функция выделяет черты лица (контрасты)\n",
    "    :param im_array: картинка прочитаная cv.imread\n",
    "    :param mode: применяет вейвлетное преобразование в указанном режиме\n",
    "    :param level: и заданном уровне\n",
    "    :return:\n",
    "    \"\"\"\n",
    "    #imArray = img\n",
    "    #Datatype conversions\n",
    "    #convert to grayscale\n",
    "    im_array = cv2.cvtColor( im_array,cv2.COLOR_RGB2GRAY )\n",
    "    #convert to float\n",
    "    im_array =  np.float32(im_array)\n",
    "    im_array /= 255\n",
    "    # compute coefficients\n",
    "    coefficients = pywt.wavedec2(im_array, mode, level=level)\n",
    "\n",
    "    #Process Coefficients\n",
    "    coefficients_h = list(coefficients)\n",
    "    coefficients_h[0] *= 0\n",
    "\n",
    "    # reconstruction\n",
    "    im_array_h=pywt.waverec2(coefficients_h, mode)\n",
    "    im_array_h *= 255\n",
    "    im_array_h =  np.uint8(im_array_h)\n",
    "\n",
    "    return im_array_h"
   ],
   "metadata": {
    "collapsed": false,
    "ExecuteTime": {
     "end_time": "2023-12-30T18:49:36.907226Z",
     "start_time": "2023-12-30T18:49:36.870053900Z"
    }
   }
  },
  {
   "cell_type": "code",
   "execution_count": 220,
   "outputs": [],
   "source": [
    "# Создаем обучающий массив данных (фичи) и ответы к нему. X - представляет собой комбинацию из\n",
    "X, y = [], []\n",
    "\n",
    "# Берем имя человека и путь к картинке\n",
    "for person, path_to_training_images in cropped_person_path.items():\n",
    "\n",
    "    # Из списка всех картинок, берем одну\n",
    "    for training_image in path_to_training_images:\n",
    "\n",
    "        # Читаем картинку с помощью open cv\n",
    "        img = cv2.imread(training_image)\n",
    "\n",
    "        # Приводим к одному размеру\n",
    "        scaled_image = cv2.resize(img, (32, 32))\n",
    "\n",
    "        # Проводим через функцию которая выделяет черты\n",
    "        img_har = w2d(img,'db1',5)\n",
    "\n",
    "        # Проводим к одному размеру после преобразования\n",
    "        scaled_img_har = cv2.resize(img_har, (32, 32))\n",
    "\n",
    "        # объедением цветное фото с черно-белым\n",
    "        combined_img = np.vstack((scaled_image.reshape(32 * 32 * 3, 1), scaled_img_har.reshape(32 * 32, 1)))\n",
    "\n",
    "        # Записываем в обучающую выборку изображения (массив цветов) и цифру соответствующего человека\n",
    "        X.append(combined_img)\n",
    "        y.append(one_hot_class[person])"
   ],
   "metadata": {
    "collapsed": false,
    "ExecuteTime": {
     "end_time": "2023-12-30T18:49:37.794123500Z",
     "start_time": "2023-12-30T18:49:36.897218900Z"
    }
   }
  },
  {
   "cell_type": "code",
   "execution_count": 221,
   "outputs": [
    {
     "name": "stdout",
     "output_type": "stream",
     "text": [
      "Всего картинок загружено: 143\n",
      "Размеры тестового массива: (143, 4096)\n"
     ]
    }
   ],
   "source": [
    "# Переводим все данные в float и убеждаемся что их столько же, сколько записанных картинок\n",
    "X = np.array(X).reshape(len(X),4096).astype(float)\n",
    "print(f\"Всего картинок загружено: {pictures - counter_face_miss}\\nРазмеры тестового массива: {X.shape}\")"
   ],
   "metadata": {
    "collapsed": false,
    "ExecuteTime": {
     "end_time": "2023-12-30T18:49:37.809717600Z",
     "start_time": "2023-12-30T18:49:37.801736900Z"
    }
   }
  },
  {
   "cell_type": "code",
   "execution_count": 222,
   "outputs": [],
   "source": [
    "X_train, X_test, y_train, y_test = train_test_split(X, y, random_state=5)\n",
    "# split\n",
    "# X_train, X_test, y_train, y_test = train_test_split(X, y, train_size=0.7, shuffle=True)\n"
   ],
   "metadata": {
    "collapsed": false,
    "ExecuteTime": {
     "end_time": "2023-12-30T18:49:37.852592100Z",
     "start_time": "2023-12-30T18:49:37.810714600Z"
    }
   }
  },
  {
   "cell_type": "code",
   "execution_count": 223,
   "outputs": [
    {
     "data": {
      "text/plain": "0.8055555555555556"
     },
     "execution_count": 223,
     "metadata": {},
     "output_type": "execute_result"
    }
   ],
   "source": [
    "pipe = Pipeline([('scaler', StandardScaler()), ('svc', SVC(kernel = 'rbf', C = 10))])\n",
    "pipe.fit(X_train, y_train)\n",
    "pipe.score(X_test, y_test)"
   ],
   "metadata": {
    "collapsed": false,
    "ExecuteTime": {
     "end_time": "2023-12-30T18:49:37.904507800Z",
     "start_time": "2023-12-30T18:49:37.831621900Z"
    }
   }
  },
  {
   "cell_type": "code",
   "execution_count": 224,
   "outputs": [
    {
     "name": "stdout",
     "output_type": "stream",
     "text": [
      "              precision    recall  f1-score   support\n",
      "\n",
      "           0       0.50      0.50      0.50         4\n",
      "           1       1.00      1.00      1.00         3\n",
      "           2       0.88      0.94      0.91        16\n",
      "           3       0.00      0.00      0.00         1\n",
      "           4       0.67      0.80      0.73         5\n",
      "           5       0.83      0.71      0.77         7\n",
      "\n",
      "    accuracy                           0.81        36\n",
      "   macro avg       0.65      0.66      0.65        36\n",
      "weighted avg       0.79      0.81      0.79        36\n",
      "\n"
     ]
    },
    {
     "name": "stderr",
     "output_type": "stream",
     "text": [
      "C:\\Users\\spark\\PycharmProjects\\image_face_recognition\\venv\\lib\\site-packages\\sklearn\\metrics\\_classification.py:1471: UndefinedMetricWarning: Precision and F-score are ill-defined and being set to 0.0 in labels with no predicted samples. Use `zero_division` parameter to control this behavior.\n",
      "  _warn_prf(average, modifier, msg_start, len(result))\n",
      "C:\\Users\\spark\\PycharmProjects\\image_face_recognition\\venv\\lib\\site-packages\\sklearn\\metrics\\_classification.py:1471: UndefinedMetricWarning: Precision and F-score are ill-defined and being set to 0.0 in labels with no predicted samples. Use `zero_division` parameter to control this behavior.\n",
      "  _warn_prf(average, modifier, msg_start, len(result))\n",
      "C:\\Users\\spark\\PycharmProjects\\image_face_recognition\\venv\\lib\\site-packages\\sklearn\\metrics\\_classification.py:1471: UndefinedMetricWarning: Precision and F-score are ill-defined and being set to 0.0 in labels with no predicted samples. Use `zero_division` parameter to control this behavior.\n",
      "  _warn_prf(average, modifier, msg_start, len(result))\n"
     ]
    }
   ],
   "source": [
    "print(classification_report(y_test, pipe.predict(X_test)))"
   ],
   "metadata": {
    "collapsed": false,
    "ExecuteTime": {
     "end_time": "2023-12-30T18:49:37.974655300Z",
     "start_time": "2023-12-30T18:49:37.904507800Z"
    }
   }
  },
  {
   "cell_type": "code",
   "execution_count": 225,
   "outputs": [],
   "source": [
    "from sklearn import svm\n",
    "from sklearn.ensemble import RandomForestClassifier\n",
    "from sklearn.linear_model import LogisticRegression\n",
    "from sklearn.pipeline import make_pipeline\n",
    "from sklearn.model_selection import GridSearchCV"
   ],
   "metadata": {
    "collapsed": false,
    "ExecuteTime": {
     "end_time": "2023-12-30T18:49:37.974655300Z",
     "start_time": "2023-12-30T18:49:37.949048700Z"
    }
   }
  },
  {
   "cell_type": "code",
   "execution_count": 226,
   "outputs": [],
   "source": [
    "model_params = {\n",
    "    'svm': {\n",
    "        'model': svm.SVC(gamma='auto',probability=True),\n",
    "        'params' : {\n",
    "            'svc__C': [1,10,100,1000],\n",
    "            'svc__kernel': ['rbf','linear']\n",
    "        }\n",
    "    },\n",
    "    'random_forest': {\n",
    "        'model': RandomForestClassifier(),\n",
    "        'params' : {\n",
    "            'randomforestclassifier__n_estimators': [1,5,10]\n",
    "        }\n",
    "    },\n",
    "    'logistic_regression' : {\n",
    "        'model': LogisticRegression(solver='liblinear',multi_class='auto'),\n",
    "        'params': {\n",
    "            'logisticregression__C': [1,5,10]\n",
    "        }\n",
    "    }\n",
    "}"
   ],
   "metadata": {
    "collapsed": false,
    "ExecuteTime": {
     "end_time": "2023-12-30T18:49:37.980638700Z",
     "start_time": "2023-12-30T18:49:37.964684300Z"
    }
   }
  },
  {
   "cell_type": "code",
   "execution_count": 227,
   "outputs": [
    {
     "name": "stderr",
     "output_type": "stream",
     "text": [
      "C:\\Users\\spark\\PycharmProjects\\image_face_recognition\\venv\\lib\\site-packages\\sklearn\\model_selection\\_split.py:737: UserWarning: The least populated class in y has only 4 members, which is less than n_splits=5.\n",
      "  warnings.warn(\n",
      "C:\\Users\\spark\\PycharmProjects\\image_face_recognition\\venv\\lib\\site-packages\\sklearn\\model_selection\\_split.py:737: UserWarning: The least populated class in y has only 4 members, which is less than n_splits=5.\n",
      "  warnings.warn(\n",
      "C:\\Users\\spark\\PycharmProjects\\image_face_recognition\\venv\\lib\\site-packages\\sklearn\\model_selection\\_split.py:737: UserWarning: The least populated class in y has only 4 members, which is less than n_splits=5.\n",
      "  warnings.warn(\n"
     ]
    },
    {
     "data": {
      "text/plain": "                 model  best_score  \\\n0                  svm    0.619048   \n1        random_forest    0.391775   \n2  logistic_regression    0.571429   \n\n                                   best_params  \n0       {'svc__C': 1, 'svc__kernel': 'linear'}  \n1  {'randomforestclassifier__n_estimators': 5}  \n2                 {'logisticregression__C': 1}  ",
      "text/html": "<div>\n<style scoped>\n    .dataframe tbody tr th:only-of-type {\n        vertical-align: middle;\n    }\n\n    .dataframe tbody tr th {\n        vertical-align: top;\n    }\n\n    .dataframe thead th {\n        text-align: right;\n    }\n</style>\n<table border=\"1\" class=\"dataframe\">\n  <thead>\n    <tr style=\"text-align: right;\">\n      <th></th>\n      <th>model</th>\n      <th>best_score</th>\n      <th>best_params</th>\n    </tr>\n  </thead>\n  <tbody>\n    <tr>\n      <th>0</th>\n      <td>svm</td>\n      <td>0.619048</td>\n      <td>{'svc__C': 1, 'svc__kernel': 'linear'}</td>\n    </tr>\n    <tr>\n      <th>1</th>\n      <td>random_forest</td>\n      <td>0.391775</td>\n      <td>{'randomforestclassifier__n_estimators': 5}</td>\n    </tr>\n    <tr>\n      <th>2</th>\n      <td>logistic_regression</td>\n      <td>0.571429</td>\n      <td>{'logisticregression__C': 1}</td>\n    </tr>\n  </tbody>\n</table>\n</div>"
     },
     "execution_count": 227,
     "metadata": {},
     "output_type": "execute_result"
    }
   ],
   "source": [
    "scores = []\n",
    "best_estimators = {}\n",
    "import pandas as pd\n",
    "for algo, mp in model_params.items():\n",
    "    pipe = make_pipeline(StandardScaler(), mp['model'])\n",
    "    clf =  GridSearchCV(pipe, mp['params'], cv=5, return_train_score=False)\n",
    "    clf.fit(X_train, y_train)\n",
    "    scores.append({\n",
    "        'model': algo,\n",
    "        'best_score': clf.best_score_,\n",
    "        'best_params': clf.best_params_\n",
    "    })\n",
    "    best_estimators[algo] = clf.best_estimator_\n",
    "\n",
    "df = pd.DataFrame(scores,columns=['model','best_score','best_params'])\n",
    "df"
   ],
   "metadata": {
    "collapsed": false,
    "ExecuteTime": {
     "end_time": "2023-12-30T18:49:57.555615900Z",
     "start_time": "2023-12-30T18:49:37.979640500Z"
    }
   }
  },
  {
   "cell_type": "code",
   "execution_count": 228,
   "outputs": [
    {
     "data": {
      "text/plain": "{'svm': Pipeline(steps=[('standardscaler', StandardScaler()),\n                 ('svc',\n                  SVC(C=1, gamma='auto', kernel='linear', probability=True))]),\n 'random_forest': Pipeline(steps=[('standardscaler', StandardScaler()),\n                 ('randomforestclassifier',\n                  RandomForestClassifier(n_estimators=5))]),\n 'logistic_regression': Pipeline(steps=[('standardscaler', StandardScaler()),\n                 ('logisticregression',\n                  LogisticRegression(C=1, solver='liblinear'))])}"
     },
     "execution_count": 228,
     "metadata": {},
     "output_type": "execute_result"
    }
   ],
   "source": [
    "best_estimators"
   ],
   "metadata": {
    "collapsed": false,
    "ExecuteTime": {
     "end_time": "2023-12-30T18:49:57.629800700Z",
     "start_time": "2023-12-30T18:49:57.559763700Z"
    }
   }
  },
  {
   "cell_type": "code",
   "execution_count": 229,
   "outputs": [
    {
     "name": "stdout",
     "output_type": "stream",
     "text": [
      "0.6944444444444444\n"
     ]
    }
   ],
   "source": [
    "scores_info = {}\n",
    "scores_info[(best_estimators['svm'].score(X_test,y_test))] = \"svm\"\n",
    "print(best_estimators['svm'].score(X_test,y_test))"
   ],
   "metadata": {
    "collapsed": false,
    "ExecuteTime": {
     "end_time": "2023-12-30T18:49:57.701616400Z",
     "start_time": "2023-12-30T18:49:57.575287800Z"
    }
   }
  },
  {
   "cell_type": "code",
   "execution_count": 230,
   "outputs": [
    {
     "name": "stdout",
     "output_type": "stream",
     "text": [
      "0.5833333333333334\n"
     ]
    }
   ],
   "source": [
    "scores_info[(best_estimators['random_forest'].score(X_test,y_test))] = \"random_forest\"\n",
    "print(best_estimators['random_forest'].score(X_test,y_test))"
   ],
   "metadata": {
    "collapsed": false,
    "ExecuteTime": {
     "end_time": "2023-12-30T18:49:57.768430300Z",
     "start_time": "2023-12-30T18:49:57.638777200Z"
    }
   }
  },
  {
   "cell_type": "code",
   "execution_count": 231,
   "outputs": [
    {
     "name": "stdout",
     "output_type": "stream",
     "text": [
      "0.8333333333333334\n"
     ]
    }
   ],
   "source": [
    "scores_info[(best_estimators['logistic_regression'].score(X_test,y_test))] = \"logistic_regression\"\n",
    "print(best_estimators['logistic_regression'].score(X_test,y_test))"
   ],
   "metadata": {
    "collapsed": false,
    "ExecuteTime": {
     "end_time": "2023-12-30T18:49:57.769430Z",
     "start_time": "2023-12-30T18:49:57.668697300Z"
    }
   }
  },
  {
   "cell_type": "code",
   "execution_count": 232,
   "outputs": [
    {
     "data": {
      "text/plain": "{0.6944444444444444: 'svm',\n 0.5833333333333334: 'random_forest',\n 0.8333333333333334: 'logistic_regression'}"
     },
     "execution_count": 232,
     "metadata": {},
     "output_type": "execute_result"
    }
   ],
   "source": [
    "scores_info"
   ],
   "metadata": {
    "collapsed": false,
    "ExecuteTime": {
     "end_time": "2023-12-30T18:49:57.771432500Z",
     "start_time": "2023-12-30T18:49:57.695628400Z"
    }
   }
  },
  {
   "cell_type": "code",
   "execution_count": 233,
   "outputs": [],
   "source": [
    "the_best = max(scores_info.keys())\n",
    "best_model = scores_info[the_best]"
   ],
   "metadata": {
    "collapsed": false,
    "ExecuteTime": {
     "end_time": "2023-12-30T18:49:57.771432500Z",
     "start_time": "2023-12-30T18:49:57.716568900Z"
    }
   }
  },
  {
   "cell_type": "code",
   "execution_count": 234,
   "outputs": [],
   "source": [
    "best_clf = best_estimators['svm']"
   ],
   "metadata": {
    "collapsed": false,
    "ExecuteTime": {
     "end_time": "2023-12-30T18:49:57.772420900Z",
     "start_time": "2023-12-30T18:49:57.732530200Z"
    }
   }
  },
  {
   "cell_type": "code",
   "execution_count": 235,
   "outputs": [
    {
     "data": {
      "text/plain": "array([[ 2,  1,  0,  0,  1,  0],\n       [ 0,  3,  0,  0,  0,  0],\n       [ 3,  1, 12,  0,  0,  0],\n       [ 0,  0,  0,  0,  0,  1],\n       [ 0,  0,  2,  0,  3,  0],\n       [ 1,  0,  0,  0,  1,  5]], dtype=int64)"
     },
     "execution_count": 235,
     "metadata": {},
     "output_type": "execute_result"
    }
   ],
   "source": [
    "from sklearn.metrics import confusion_matrix\n",
    "cm = confusion_matrix(y_test, best_clf.predict(X_test))\n",
    "cm"
   ],
   "metadata": {
    "collapsed": false,
    "ExecuteTime": {
     "end_time": "2023-12-30T18:49:57.779401100Z",
     "start_time": "2023-12-30T18:49:57.745493400Z"
    }
   }
  },
  {
   "cell_type": "code",
   "execution_count": 236,
   "outputs": [
    {
     "data": {
      "text/plain": "Text(95.72222222222221, 0.5, 'Truth')"
     },
     "execution_count": 236,
     "metadata": {},
     "output_type": "execute_result"
    },
    {
     "data": {
      "text/plain": "<Figure size 1000x700 with 2 Axes>",
      "image/png": "[encoded data removed]"
     },
     "metadata": {},
     "output_type": "display_data"
    }
   ],
   "source": [
    "import seaborn as sn\n",
    "plt.figure(figsize = (10,7))\n",
    "sn.heatmap(cm, annot=True)\n",
    "plt.xlabel('Predicted')\n",
    "plt.ylabel('Truth')"
   ],
   "metadata": {
    "collapsed": false,
    "ExecuteTime": {
     "end_time": "2023-12-30T18:49:58.213880400Z",
     "start_time": "2023-12-30T18:49:57.776409500Z"
    }
   }
  },
  {
   "cell_type": "code",
   "execution_count": 237,
   "outputs": [],
   "source": [
    "best_clf = best_estimators[best_model]\n",
    "cm = confusion_matrix(y_test, best_clf.predict(X_test))"
   ],
   "metadata": {
    "collapsed": false,
    "ExecuteTime": {
     "end_time": "2023-12-30T18:49:58.310701200Z",
     "start_time": "2023-12-30T18:49:58.240808900Z"
    }
   }
  },
  {
   "cell_type": "code",
   "execution_count": 238,
   "outputs": [
    {
     "data": {
      "text/plain": "Text(95.72222222222221, 0.5, 'Truth')"
     },
     "execution_count": 238,
     "metadata": {},
     "output_type": "execute_result"
    },
    {
     "data": {
      "text/plain": "<Figure size 1000x700 with 2 Axes>",
      "image/png": "[encoded data removed]"
     },
     "metadata": {},
     "output_type": "display_data"
    }
   ],
   "source": [
    "import seaborn as sn\n",
    "plt.figure(figsize = (10,7))\n",
    "sn.heatmap(cm, annot=True)\n",
    "plt.title(best_model)\n",
    "plt.xlabel('Predicted')\n",
    "plt.ylabel('Truth')"
   ],
   "metadata": {
    "collapsed": false,
    "ExecuteTime": {
     "end_time": "2023-12-30T18:49:58.662759200Z",
     "start_time": "2023-12-30T18:49:58.240808900Z"
    }
   }
  },
  {
   "cell_type": "code",
   "execution_count": 239,
   "outputs": [
    {
     "data": {
      "text/plain": "{'andrey_bond': 0,\n 'dina_samatova': 1,\n 'elvira_lukhmenko': 2,\n 'kyrrylo_chistik': 3,\n 'liza_dorik': 4,\n 'mykyta_khambur': 5}"
     },
     "execution_count": 239,
     "metadata": {},
     "output_type": "execute_result"
    }
   ],
   "source": [
    "one_hot_class"
   ],
   "metadata": {
    "collapsed": false,
    "ExecuteTime": {
     "end_time": "2023-12-30T18:49:58.676721200Z",
     "start_time": "2023-12-30T18:49:58.666750500Z"
    }
   }
  },
  {
   "cell_type": "code",
   "execution_count": 240,
   "outputs": [
    {
     "data": {
      "text/plain": "['image_recognition_svm.pkl']"
     },
     "execution_count": 240,
     "metadata": {},
     "output_type": "execute_result"
    }
   ],
   "source": [
    "import joblib\n",
    "# Save the model as a pickle in a file\n",
    "joblib.dump(best_clf, 'image_recognition_svm.pkl')"
   ],
   "metadata": {
    "collapsed": false,
    "ExecuteTime": {
     "end_time": "2023-12-30T18:49:58.781795700Z",
     "start_time": "2023-12-30T18:49:58.680720900Z"
    }
   }
  },
  {
   "cell_type": "code",
   "execution_count": 241,
   "outputs": [],
   "source": [
    "import json\n",
    "with open(\"class_dictionary.json\",\"w\") as f:\n",
    "    f.write(json.dumps(one_hot_class))"
   ],
   "metadata": {
    "collapsed": false,
    "ExecuteTime": {
     "end_time": "2023-12-30T18:49:58.803158200Z",
     "start_time": "2023-12-30T18:49:58.695671500Z"
    }
   }
  },
  {
   "cell_type": "code",
   "execution_count": 242,
   "outputs": [
    {
     "data": {
      "text/plain": "'import copy\\n\\nimport matplotlib.pyplot as plt\\nimport numpy as np\\nimport torch\\nimport torch.nn as nn\\nimport torch.optim as optim\\nimport tqdm\\nfrom sklearn.model_selection import train_test_split\\nfrom sklearn.preprocessing import OneHotEncoder\\n\\n# convert pandas DataFrame (X) and numpy array (y) into PyTorch tensors\\nX = torch.tensor(X, dtype=torch.float32)\\ny = torch.tensor(y, dtype=torch.float32)\\n\\nprint(type(X))\\nprint(type(y))\\nprint(y)\\n\\n# split\\nX_train, X_test, y_train, y_test = train_test_split(X, y, train_size=0.7, shuffle=True)\\nprint(f\"aaaaaaaaaaaaa \\n\\n{X_train}\")\\nclass Multiclass(nn.Module):\\n    def __init__(self):\\n        super().__init__()\\n        self.hidden = nn.Linear(4, 8)\\n        self.act = nn.ReLU()\\n        self.output = nn.Linear(8, 3)\\n\\n    def forward(self, x):\\n        x = self.act(self.hidden(x))\\n        x = self.output(x)\\n        return x\\n\\n# loss metric and optimizer\\nmodel = Multiclass()\\nloss_fn = nn.CrossEntropyLoss()\\noptimizer = optim.Adam(model.parameters(), lr=0.001)\\n\\n# prepare model and training parameters\\nn_epochs = 200\\nbatch_size = 5\\nbatches_per_epoch = len(X_train) // batch_size\\n\\nbest_acc = - np.inf   # init to negative infinity\\nbest_weights = None\\ntrain_loss_hist = []\\ntrain_acc_hist = []\\ntest_loss_hist = []\\ntest_acc_hist = []\\n\\n# training loop\\nfor epoch in range(n_epochs):\\n    epoch_loss = []\\n    epoch_acc = []\\n    # set model in training mode and run through each batch\\n    model.train()\\n    with tqdm.trange(batches_per_epoch, unit=\"batch\", mininterval=0) as bar:\\n        bar.set_description(f\"Epoch {epoch}\")\\n        for i in bar:\\n            # take a batch\\n            start = i * batch_size\\n            X_batch = X_train[start:start+batch_size]\\n            y_batch = y_train[start:start+batch_size]\\n            # forward pass\\n            y_pred = model(X_batch)\\n            loss = loss_fn(y_pred, y_batch)\\n            # backward pass\\n            optimizer.zero_grad()\\n            loss.backward()\\n            # update weights\\n            optimizer.step()\\n            # compute and store metrics\\n            acc = (torch.argmax(y_pred, 1) == torch.argmax(y_batch, 1)).float().mean()\\n            epoch_loss.append(float(loss))\\n            epoch_acc.append(float(acc))\\n            bar.set_postfix(\\n                loss=float(loss),\\n                acc=float(acc)\\n            )\\n    # set model in evaluation mode and run through the test set\\n    model.eval()\\n    y_pred = model(X_test)\\n    ce = loss_fn(y_pred, y_test)\\n    acc = (torch.argmax(y_pred, 1) == torch.argmax(y_test, 1)).float().mean()\\n    ce = float(ce)\\n    acc = float(acc)\\n    train_loss_hist.append(np.mean(epoch_loss))\\n    train_acc_hist.append(np.mean(epoch_acc))\\n    test_loss_hist.append(ce)\\n    test_acc_hist.append(acc)\\n    if acc > best_acc:\\n        best_acc = acc\\n        best_weights = copy.deepcopy(model.state_dict())\\n    print(f\"Epoch {epoch} validation: Cross-entropy={ce:.2f}, Accuracy={acc*100:.1f}%\")\\n\\n# Restore best model\\nmodel.load_state_dict(best_weights)\\n\\n# Plot the loss and accuracy\\nplt.plot(train_loss_hist, label=\"train\")\\nplt.plot(test_loss_hist, label=\"test\")\\nplt.xlabel(\"epochs\")\\nplt.ylabel(\"cross entropy\")\\nplt.legend()\\nplt.show()\\n\\nplt.plot(train_acc_hist, label=\"train\")\\nplt.plot(test_acc_hist, label=\"test\")\\nplt.xlabel(\"epochs\")\\nplt.ylabel(\"accuracy\")\\nplt.legend()\\nplt.show()'"
     },
     "execution_count": 242,
     "metadata": {},
     "output_type": "execute_result"
    }
   ],
   "source": [
    "\"\"\"import copy\n",
    "\n",
    "import matplotlib.pyplot as plt\n",
    "import numpy as np\n",
    "import torch\n",
    "import torch.nn as nn\n",
    "import torch.optim as optim\n",
    "import tqdm\n",
    "from sklearn.model_selection import train_test_split\n",
    "from sklearn.preprocessing import OneHotEncoder\n",
    "\n",
    "# convert pandas DataFrame (X) and numpy array (y) into PyTorch tensors\n",
    "X = torch.tensor(X, dtype=torch.float32)\n",
    "y = torch.tensor(y, dtype=torch.float32)\n",
    "\n",
    "print(type(X))\n",
    "print(type(y))\n",
    "print(y)\n",
    "\n",
    "# split\n",
    "X_train, X_test, y_train, y_test = train_test_split(X, y, train_size=0.7, shuffle=True)\n",
    "print(f\"aaaaaaaaaaaaa \\n\\n{X_train}\")\n",
    "class Multiclass(nn.Module):\n",
    "    def __init__(self):\n",
    "        super().__init__()\n",
    "        self.hidden = nn.Linear(4, 8)\n",
    "        self.act = nn.ReLU()\n",
    "        self.output = nn.Linear(8, 3)\n",
    "\n",
    "    def forward(self, x):\n",
    "        x = self.act(self.hidden(x))\n",
    "        x = self.output(x)\n",
    "        return x\n",
    "\n",
    "# loss metric and optimizer\n",
    "model = Multiclass()\n",
    "loss_fn = nn.CrossEntropyLoss()\n",
    "optimizer = optim.Adam(model.parameters(), lr=0.001)\n",
    "\n",
    "# prepare model and training parameters\n",
    "n_epochs = 200\n",
    "batch_size = 5\n",
    "batches_per_epoch = len(X_train) // batch_size\n",
    "\n",
    "best_acc = - np.inf   # init to negative infinity\n",
    "best_weights = None\n",
    "train_loss_hist = []\n",
    "train_acc_hist = []\n",
    "test_loss_hist = []\n",
    "test_acc_hist = []\n",
    "\n",
    "# training loop\n",
    "for epoch in range(n_epochs):\n",
    "    epoch_loss = []\n",
    "    epoch_acc = []\n",
    "    # set model in training mode and run through each batch\n",
    "    model.train()\n",
    "    with tqdm.trange(batches_per_epoch, unit=\"batch\", mininterval=0) as bar:\n",
    "        bar.set_description(f\"Epoch {epoch}\")\n",
    "        for i in bar:\n",
    "            # take a batch\n",
    "            start = i * batch_size\n",
    "            X_batch = X_train[start:start+batch_size]\n",
    "            y_batch = y_train[start:start+batch_size]\n",
    "            # forward pass\n",
    "            y_pred = model(X_batch)\n",
    "            loss = loss_fn(y_pred, y_batch)\n",
    "            # backward pass\n",
    "            optimizer.zero_grad()\n",
    "            loss.backward()\n",
    "            # update weights\n",
    "            optimizer.step()\n",
    "            # compute and store metrics\n",
    "            acc = (torch.argmax(y_pred, 1) == torch.argmax(y_batch, 1)).float().mean()\n",
    "            epoch_loss.append(float(loss))\n",
    "            epoch_acc.append(float(acc))\n",
    "            bar.set_postfix(\n",
    "                loss=float(loss),\n",
    "                acc=float(acc)\n",
    "            )\n",
    "    # set model in evaluation mode and run through the test set\n",
    "    model.eval()\n",
    "    y_pred = model(X_test)\n",
    "    ce = loss_fn(y_pred, y_test)\n",
    "    acc = (torch.argmax(y_pred, 1) == torch.argmax(y_test, 1)).float().mean()\n",
    "    ce = float(ce)\n",
    "    acc = float(acc)\n",
    "    train_loss_hist.append(np.mean(epoch_loss))\n",
    "    train_acc_hist.append(np.mean(epoch_acc))\n",
    "    test_loss_hist.append(ce)\n",
    "    test_acc_hist.append(acc)\n",
    "    if acc > best_acc:\n",
    "        best_acc = acc\n",
    "        best_weights = copy.deepcopy(model.state_dict())\n",
    "    print(f\"Epoch {epoch} validation: Cross-entropy={ce:.2f}, Accuracy={acc*100:.1f}%\")\n",
    "\n",
    "# Restore best model\n",
    "model.load_state_dict(best_weights)\n",
    "\n",
    "# Plot the loss and accuracy\n",
    "plt.plot(train_loss_hist, label=\"train\")\n",
    "plt.plot(test_loss_hist, label=\"test\")\n",
    "plt.xlabel(\"epochs\")\n",
    "plt.ylabel(\"cross entropy\")\n",
    "plt.legend()\n",
    "plt.show()\n",
    "\n",
    "plt.plot(train_acc_hist, label=\"train\")\n",
    "plt.plot(test_acc_hist, label=\"test\")\n",
    "plt.xlabel(\"epochs\")\n",
    "plt.ylabel(\"accuracy\")\n",
    "plt.legend()\n",
    "plt.show()\"\"\""
   ],
   "metadata": {
    "collapsed": false,
    "ExecuteTime": {
     "end_time": "2023-12-30T18:49:58.803158200Z",
     "start_time": "2023-12-30T18:49:58.711629500Z"
    }
   }
  }
 ],
 "metadata": {
  "kernelspec": {
   "display_name": "Python 3",
   "language": "python",
   "name": "python3"
  },
  "language_info": {
   "codemirror_mode": {
    "name": "ipython",
    "version": 2
   },
   "file_extension": ".py",
   "mimetype": "text/x-python",
   "name": "python",
   "nbconvert_exporter": "python",
   "pygments_lexer": "ipython2",
   "version": "2.7.6"
  }
 },
 "nbformat": 4,
 "nbformat_minor": 0
}
